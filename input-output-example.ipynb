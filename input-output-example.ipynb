{
 "cells": [
  {
   "cell_type": "code",
   "execution_count": 1,
   "id": "c3759346",
   "metadata": {},
   "outputs": [],
   "source": [
    "import torch\n",
    "import torch.nn as nn"
   ]
  },
  {
   "cell_type": "code",
   "execution_count": 6,
   "id": "81b51c94",
   "metadata": {},
   "outputs": [
    {
     "name": "stdout",
     "output_type": "stream",
     "text": [
      "torch.Size([5, 3, 20])\n",
      "torch.Size([2, 3, 20])\n"
     ]
    }
   ],
   "source": [
    "rnn = nn.GRU(6, 20, 2)          # (input_size, hidden_size, num_layers)\n",
    "input = torch.randn(5, 3, 6)    # (seq, batch, input_size)\n",
    "h0 = torch.randn(2, 3, 20)      # (num_layers, batch, hidden_size)\n",
    "\n",
    "output, hn = rnn(input, h0)\n",
    "\n",
    "print(output.shape)             # (seq, batch, hidden_size)\n",
    "print(hn.shape)                 # (num_layers, batch, hidden_size)"
   ]
  },
  {
   "cell_type": "markdown",
   "id": "edb00d79",
   "metadata": {},
   "source": [
    "* input_size - number of columns for each batch\n",
    "* hidden_size - number of items in each hidden sequence\n",
    "* num_layers - bidirectional or not\n",
    "* seq - number of top level arrays in the input/output\n",
    "* batch - number of rows for each sequence"
   ]
  },
  {
   "cell_type": "code",
   "execution_count": 3,
   "id": "5833d1fb",
   "metadata": {},
   "outputs": [
    {
     "data": {
      "text/plain": [
       "tensor([[[-0.1887,  0.0952, -0.7018,  0.2812,  0.4788,  0.2126],\n",
       "         [-0.4361, -1.3136,  0.0603, -1.9013, -0.3257, -0.5444],\n",
       "         [-0.6521,  1.2154,  0.5980,  1.7343, -0.1941, -0.1669]],\n",
       "\n",
       "        [[ 0.9027, -0.6372, -1.5240, -0.3195, -1.0237, -0.0714],\n",
       "         [-0.0954,  1.0113,  1.0895,  1.1309, -0.8055,  2.4946],\n",
       "         [ 1.1385,  0.2569, -0.6956,  0.2666,  0.8725, -1.4455]],\n",
       "\n",
       "        [[-1.0986,  0.2780,  1.8506,  2.7152, -0.9571, -1.0912],\n",
       "         [-0.2641,  0.5467,  1.3008, -0.7088, -0.8469,  1.5534],\n",
       "         [ 0.0948,  0.8790, -0.3021, -0.2199,  0.1379, -0.8319]],\n",
       "\n",
       "        [[-0.6829,  0.2681,  0.8445,  1.1821, -0.2673,  0.2803],\n",
       "         [ 0.5727,  0.6825,  0.0497, -1.8761, -0.3748, -0.2864],\n",
       "         [ 1.7115, -0.9115, -0.2069,  0.5489,  0.9393, -0.8075]],\n",
       "\n",
       "        [[-1.9272,  0.2370, -0.8159,  0.4521,  1.1972, -1.2433],\n",
       "         [ 0.6291,  1.1447, -1.0614,  0.4598, -0.7426, -0.0316],\n",
       "         [ 0.5642, -0.9879, -0.0404,  1.3605,  0.2870, -1.3761]]])"
      ]
     },
     "execution_count": 3,
     "metadata": {},
     "output_type": "execute_result"
    }
   ],
   "source": [
    "input"
   ]
  },
  {
   "cell_type": "code",
   "execution_count": 5,
   "id": "312126cd",
   "metadata": {},
   "outputs": [
    {
     "data": {
      "text/plain": [
       "tensor([[[-0.1615,  0.1657, -0.3201, -0.0582, -0.0754,  0.2385,  0.2579,\n",
       "           0.3793,  0.0894, -0.5551, -0.4669,  0.4854,  0.1288, -0.3706,\n",
       "          -0.5579, -0.5082, -0.0818, -0.1725,  0.1948, -0.0472],\n",
       "         [ 0.0093, -0.1265, -0.0950,  0.0744, -0.1536,  0.1359,  0.1821,\n",
       "           0.1416,  0.2238, -0.1352, -0.3996,  0.0175,  0.2834, -0.1060,\n",
       "          -0.2487,  0.0310, -0.2121,  0.1034,  0.4728,  0.1074],\n",
       "         [-0.4483, -0.1713, -0.0684, -0.0761,  0.2908, -0.0536, -0.2029,\n",
       "           0.5018, -0.3058, -0.0894, -0.1289,  0.2810, -0.0743, -0.1150,\n",
       "          -0.4000, -0.3355,  0.1379,  0.4626,  0.0727, -0.3328]],\n",
       "\n",
       "        [[-0.1210, -0.0805, -0.3050,  0.1620, -0.0327,  0.0360, -0.0806,\n",
       "          -0.2360, -0.3374, -0.1808, -0.1546,  0.1681, -0.0267, -0.0194,\n",
       "           0.0079,  0.0711, -0.1054,  0.0954, -0.0141, -0.1411],\n",
       "         [-0.1090, -0.2843, -0.1541, -0.1764, -0.2105, -0.0714, -0.0927,\n",
       "          -0.1098, -0.1739, -0.0129, -0.0844,  0.1225, -0.0533,  0.0374,\n",
       "           0.0359, -0.2038, -0.0974,  0.1589, -0.0689, -0.3340],\n",
       "         [-0.2537,  0.1067, -0.1247,  0.1575,  0.1190, -0.0521, -0.4894,\n",
       "          -0.3019, -0.4808,  0.0489,  0.0846,  0.0433, -0.0257,  0.0314,\n",
       "          -0.2018, -0.1487,  0.1358,  0.3032, -0.0612, -0.2472]]],\n",
       "       grad_fn=<StackBackward0>)"
      ]
     },
     "execution_count": 5,
     "metadata": {},
     "output_type": "execute_result"
    }
   ],
   "source": [
    "hn"
   ]
  },
  {
   "cell_type": "code",
   "execution_count": null,
   "id": "4b12c623",
   "metadata": {},
   "outputs": [],
   "source": []
  }
 ],
 "metadata": {
  "kernelspec": {
   "display_name": "Python 3 (ipykernel)",
   "language": "python",
   "name": "python3"
  },
  "language_info": {
   "codemirror_mode": {
    "name": "ipython",
    "version": 3
   },
   "file_extension": ".py",
   "mimetype": "text/x-python",
   "name": "python",
   "nbconvert_exporter": "python",
   "pygments_lexer": "ipython3",
   "version": "3.11.3"
  }
 },
 "nbformat": 4,
 "nbformat_minor": 5
}
